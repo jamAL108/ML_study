{
 "cells": [
  {
   "cell_type": "code",
   "execution_count": 20,
   "id": "cfab6f33",
   "metadata": {},
   "outputs": [],
   "source": [
    "import pandas as pd\n",
    "import numpy as np\n",
    "import matplotlib.pyplot as plt"
   ]
  },
  {
   "cell_type": "code",
   "execution_count": 21,
   "id": "05829cc7",
   "metadata": {},
   "outputs": [
    {
     "name": "stdout",
     "output_type": "stream",
     "text": [
      "     PassengerId  Survived  Pclass     Sex   Age  SibSp  Parch     Fare  \\\n",
      "0              1         0       3    Male  22.0      1      0   7.2500   \n",
      "1              2         1       1  female  38.0      1      0  71.2833   \n",
      "2              3         1       3  female  26.0      0      0   7.9250   \n",
      "3              4         1       1  female  35.0      1      0  53.1000   \n",
      "4              5         0       3    Male  35.0      0      0   8.0500   \n",
      "..           ...       ...     ...     ...   ...    ...    ...      ...   \n",
      "884          887         0       2    Male  27.0      0      0  13.0000   \n",
      "885          888         1       1  female  19.0      0      0  30.0000   \n",
      "886          889         0       3  female  60.0      1      2  23.4500   \n",
      "887          890         1       1    Male  26.0      0      0  30.0000   \n",
      "888          891         0       3    Male  32.0      0      0   7.7500   \n",
      "\n",
      "     Embarked  \n",
      "0           3  \n",
      "1           1  \n",
      "2           3  \n",
      "3           3  \n",
      "4           3  \n",
      "..        ...  \n",
      "884         3  \n",
      "885         3  \n",
      "886         3  \n",
      "887         1  \n",
      "888         2  \n",
      "\n",
      "[889 rows x 9 columns]\n"
     ]
    }
   ],
   "source": [
    "df = pd.read_csv(\"titanic.csv\")\n",
    "print(df)"
   ]
  },
  {
   "cell_type": "code",
   "execution_count": 22,
   "id": "3db4922e",
   "metadata": {},
   "outputs": [
    {
     "data": {
      "text/plain": [
       "PassengerId    0\n",
       "Survived       0\n",
       "Pclass         0\n",
       "Sex            0\n",
       "Age            0\n",
       "SibSp          0\n",
       "Parch          0\n",
       "Fare           0\n",
       "Embarked       0\n",
       "dtype: int64"
      ]
     },
     "execution_count": 22,
     "metadata": {},
     "output_type": "execute_result"
    }
   ],
   "source": [
    "df.isna().sum()"
   ]
  },
  {
   "cell_type": "code",
   "execution_count": 23,
   "id": "f33d19d1",
   "metadata": {},
   "outputs": [
    {
     "data": {
      "text/plain": [
       "array(['Male', 'female'], dtype=object)"
      ]
     },
     "execution_count": 23,
     "metadata": {},
     "output_type": "execute_result"
    }
   ],
   "source": [
    "df['Sex'].unique()"
   ]
  },
  {
   "cell_type": "code",
   "execution_count": 24,
   "id": "e66d6241",
   "metadata": {},
   "outputs": [
    {
     "name": "stdout",
     "output_type": "stream",
     "text": [
      "     PassengerId  Survived  Pclass  Sex   Age  SibSp  Parch     Fare  Embarked\n",
      "0              1         0       3    1  22.0      1      0   7.2500         3\n",
      "1              2         1       1    0  38.0      1      0  71.2833         1\n",
      "2              3         1       3    0  26.0      0      0   7.9250         3\n",
      "3              4         1       1    0  35.0      1      0  53.1000         3\n",
      "4              5         0       3    1  35.0      0      0   8.0500         3\n",
      "..           ...       ...     ...  ...   ...    ...    ...      ...       ...\n",
      "884          887         0       2    1  27.0      0      0  13.0000         3\n",
      "885          888         1       1    0  19.0      0      0  30.0000         3\n",
      "886          889         0       3    0  60.0      1      2  23.4500         3\n",
      "887          890         1       1    1  26.0      0      0  30.0000         1\n",
      "888          891         0       3    1  32.0      0      0   7.7500         2\n",
      "\n",
      "[889 rows x 9 columns]\n"
     ]
    }
   ],
   "source": [
    "df['Sex']=df['Sex'].map({\"Male\":1,\"female\":0})\n",
    "print(df)"
   ]
  },
  {
   "cell_type": "code",
   "execution_count": null,
   "id": "1fdcaab8",
   "metadata": {},
   "outputs": [],
   "source": []
  }
 ],
 "metadata": {
  "kernelspec": {
   "display_name": "Python 3 (ipykernel)",
   "language": "python",
   "name": "python3"
  },
  "language_info": {
   "codemirror_mode": {
    "name": "ipython",
    "version": 3
   },
   "file_extension": ".py",
   "mimetype": "text/x-python",
   "name": "python",
   "nbconvert_exporter": "python",
   "pygments_lexer": "ipython3",
   "version": "3.10.6"
  }
 },
 "nbformat": 4,
 "nbformat_minor": 5
}
