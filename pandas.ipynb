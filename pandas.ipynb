{
 "cells": [
  {
   "cell_type": "markdown",
   "id": "73ce8b38",
   "metadata": {},
   "source": [
    "# jupyter first code"
   ]
  },
  {
   "cell_type": "markdown",
   "id": "b6ee7dc2",
   "metadata": {},
   "source": [
    "## calculations"
   ]
  },
  {
   "cell_type": "code",
   "execution_count": 2,
   "id": "95a6295b",
   "metadata": {},
   "outputs": [
    {
     "data": {
      "text/plain": [
       "8"
      ]
     },
     "execution_count": 2,
     "metadata": {},
     "output_type": "execute_result"
    }
   ],
   "source": [
    "3+5"
   ]
  },
  {
   "cell_type": "markdown",
   "id": "bc388f7c",
   "metadata": {},
   "source": [
    "## print statements"
   ]
  },
  {
   "cell_type": "code",
   "execution_count": 1,
   "id": "d8432fad",
   "metadata": {
    "scrolled": true
   },
   "outputs": [
    {
     "name": "stdout",
     "output_type": "stream",
     "text": [
      "hello word\n"
     ]
    }
   ],
   "source": [
    "print(\"hello word\")"
   ]
  }
 ],
 "metadata": {
  "kernelspec": {
   "display_name": "Python 3 (ipykernel)",
   "language": "python",
   "name": "python3"
  },
  "language_info": {
   "codemirror_mode": {
    "name": "ipython",
    "version": 3
   },
   "file_extension": ".py",
   "mimetype": "text/x-python",
   "name": "python",
   "nbconvert_exporter": "python",
   "pygments_lexer": "ipython3",
   "version": "3.10.6"
  }
 },
 "nbformat": 4,
 "nbformat_minor": 5
}
