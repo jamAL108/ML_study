{
 "cells": [
  {
   "cell_type": "code",
   "execution_count": 22,
   "id": "c1be1d68",
   "metadata": {},
   "outputs": [],
   "source": [
    "import pandas as pd\n",
    "import numpy as np\n",
    "import matplotlib.pyplot as plt"
   ]
  },
  {
   "cell_type": "code",
   "execution_count": 23,
   "id": "37d3cc87",
   "metadata": {},
   "outputs": [
    {
     "name": "stdout",
     "output_type": "stream",
     "text": [
      "    R&D Spend  Administration  Marketing Spend       State     Profit\n",
      "0   165349.20       136897.80        471784.10    New York  192261.83\n",
      "1   162597.70       151377.59        443898.53  California  191792.06\n",
      "2   153441.51       101145.55        407934.54     Florida  191050.39\n",
      "3   144372.41       118671.85        383199.62    New York  182901.99\n",
      "4   142107.34        91391.77        366168.42     Florida  166187.94\n",
      "5   131876.90        99814.71        362861.36    New York  156991.12\n",
      "6   134615.46       147198.87        127716.82  California  156122.51\n",
      "7   130298.13       145530.06        323876.68     Florida  155752.60\n",
      "8   120542.52       148718.95        311613.29    New York  152211.77\n",
      "9   123334.88       108679.17        304981.62  California  149759.96\n",
      "10  101913.08       110594.11        229160.95     Florida  146121.95\n",
      "11  100671.96        91790.61        249744.55  California  144259.40\n",
      "12   93863.75       127320.38        249839.44     Florida  141585.52\n",
      "13   91992.39       135495.07        252664.93  California  134307.35\n",
      "14  119943.24       156547.42        256512.92     Florida  132602.65\n",
      "15  114523.61       122616.84        261776.23    New York  129917.04\n",
      "16   78013.11       121597.55        264346.06  California  126992.93\n",
      "17   94657.16       145077.58        282574.31    New York  125370.37\n",
      "18   91749.16       114175.79        294919.57     Florida  124266.90\n",
      "19   86419.70       153514.11             0.00    New York  122776.86\n",
      "20   76253.86       113867.30        298664.47  California  118474.03\n",
      "21   78389.47       153773.43        299737.29    New York  111313.02\n",
      "22   73994.56       122782.75        303319.26     Florida  110352.25\n",
      "23   67532.53       105751.03        304768.73     Florida  108733.99\n",
      "24   77044.01        99281.34        140574.81    New York  108552.04\n",
      "25   64664.71       139553.16        137962.62  California  107404.34\n",
      "26   75328.87       144135.98        134050.07     Florida  105733.54\n",
      "27   72107.60       127864.55        353183.81    New York  105008.31\n",
      "28   66051.52       182645.56        118148.20     Florida  103282.38\n",
      "29   65605.48       153032.06        107138.38    New York  101004.64\n",
      "30   61994.48       115641.28         91131.24     Florida   99937.59\n",
      "31   61136.38       152701.92         88218.23    New York   97483.56\n",
      "32   63408.86       129219.61         46085.25  California   97427.84\n",
      "33   55493.95       103057.49        214634.81     Florida   96778.92\n",
      "34   46426.07       157693.92        210797.67  California   96712.80\n",
      "35   46014.02        85047.44        205517.64    New York   96479.51\n",
      "36   28663.76       127056.21        201126.82     Florida   90708.19\n",
      "37   44069.95        51283.14        197029.42  California   89949.14\n",
      "38   20229.59        65947.93        185265.10    New York   81229.06\n",
      "39   38558.51        82982.09        174999.30  California   81005.76\n",
      "40   28754.33       118546.05        172795.67  California   78239.91\n",
      "41   27892.92        84710.77        164470.71     Florida   77798.83\n",
      "42   23640.93        96189.63        148001.11  California   71498.49\n",
      "43   15505.73       127382.30         35534.17    New York   69758.98\n",
      "44   22177.74       154806.14         28334.72  California   65200.33\n",
      "45    1000.23       124153.04          1903.93    New York   64926.08\n",
      "46    1315.46       115816.21        297114.46     Florida   49490.75\n",
      "47       0.00       135426.92             0.00  California   42559.73\n",
      "48     542.05        51743.15             0.00    New York   35673.41\n",
      "49       0.00       116983.80         45173.06  California   14681.40\n"
     ]
    }
   ],
   "source": [
    "df = pd.read_csv(\"50_Startups.csv\")\n",
    "print(df)"
   ]
  },
  {
   "cell_type": "markdown",
   "id": "491f3d69",
   "metadata": {},
   "source": [
    "##  Converting categorical data into numerical data"
   ]
  },
  {
   "cell_type": "markdown",
   "id": "2588b520",
   "metadata": {},
   "source": [
    "### Using get_dummies"
   ]
  },
  {
   "cell_type": "code",
   "execution_count": 24,
   "id": "15d96d18",
   "metadata": {
    "scrolled": false
   },
   "outputs": [],
   "source": [
    "df=pd.get_dummies(df,columns=[\"State\"])"
   ]
  },
  {
   "cell_type": "markdown",
   "id": "dcc601a8",
   "metadata": {},
   "source": [
    "## Dividing dependent and independent variables"
   ]
  },
  {
   "cell_type": "code",
   "execution_count": 26,
   "id": "7d954098",
   "metadata": {},
   "outputs": [
    {
     "name": "stdout",
     "output_type": "stream",
     "text": [
      "Index(['R&D Spend', 'Administration', 'Marketing Spend', 'Profit',\n",
      "       'State_California', 'State_Florida', 'State_New York'],\n",
      "      dtype='object')\n",
      "    R&D Spend  Administration  Marketing Spend  State_California  \\\n",
      "0   165349.20       136897.80        471784.10                 0   \n",
      "1   162597.70       151377.59        443898.53                 1   \n",
      "2   153441.51       101145.55        407934.54                 0   \n",
      "3   144372.41       118671.85        383199.62                 0   \n",
      "4   142107.34        91391.77        366168.42                 0   \n",
      "5   131876.90        99814.71        362861.36                 0   \n",
      "6   134615.46       147198.87        127716.82                 1   \n",
      "7   130298.13       145530.06        323876.68                 0   \n",
      "8   120542.52       148718.95        311613.29                 0   \n",
      "9   123334.88       108679.17        304981.62                 1   \n",
      "10  101913.08       110594.11        229160.95                 0   \n",
      "11  100671.96        91790.61        249744.55                 1   \n",
      "12   93863.75       127320.38        249839.44                 0   \n",
      "13   91992.39       135495.07        252664.93                 1   \n",
      "14  119943.24       156547.42        256512.92                 0   \n",
      "15  114523.61       122616.84        261776.23                 0   \n",
      "16   78013.11       121597.55        264346.06                 1   \n",
      "17   94657.16       145077.58        282574.31                 0   \n",
      "18   91749.16       114175.79        294919.57                 0   \n",
      "19   86419.70       153514.11             0.00                 0   \n",
      "20   76253.86       113867.30        298664.47                 1   \n",
      "21   78389.47       153773.43        299737.29                 0   \n",
      "22   73994.56       122782.75        303319.26                 0   \n",
      "23   67532.53       105751.03        304768.73                 0   \n",
      "24   77044.01        99281.34        140574.81                 0   \n",
      "25   64664.71       139553.16        137962.62                 1   \n",
      "26   75328.87       144135.98        134050.07                 0   \n",
      "27   72107.60       127864.55        353183.81                 0   \n",
      "28   66051.52       182645.56        118148.20                 0   \n",
      "29   65605.48       153032.06        107138.38                 0   \n",
      "30   61994.48       115641.28         91131.24                 0   \n",
      "31   61136.38       152701.92         88218.23                 0   \n",
      "32   63408.86       129219.61         46085.25                 1   \n",
      "33   55493.95       103057.49        214634.81                 0   \n",
      "34   46426.07       157693.92        210797.67                 1   \n",
      "35   46014.02        85047.44        205517.64                 0   \n",
      "36   28663.76       127056.21        201126.82                 0   \n",
      "37   44069.95        51283.14        197029.42                 1   \n",
      "38   20229.59        65947.93        185265.10                 0   \n",
      "39   38558.51        82982.09        174999.30                 1   \n",
      "40   28754.33       118546.05        172795.67                 1   \n",
      "41   27892.92        84710.77        164470.71                 0   \n",
      "42   23640.93        96189.63        148001.11                 1   \n",
      "43   15505.73       127382.30         35534.17                 0   \n",
      "44   22177.74       154806.14         28334.72                 1   \n",
      "45    1000.23       124153.04          1903.93                 0   \n",
      "46    1315.46       115816.21        297114.46                 0   \n",
      "47       0.00       135426.92             0.00                 1   \n",
      "48     542.05        51743.15             0.00                 0   \n",
      "49       0.00       116983.80         45173.06                 1   \n",
      "\n",
      "    State_Florida  State_New York     Profit  \n",
      "0               0               1  192261.83  \n",
      "1               0               0  191792.06  \n",
      "2               1               0  191050.39  \n",
      "3               0               1  182901.99  \n",
      "4               1               0  166187.94  \n",
      "5               0               1  156991.12  \n",
      "6               0               0  156122.51  \n",
      "7               1               0  155752.60  \n",
      "8               0               1  152211.77  \n",
      "9               0               0  149759.96  \n",
      "10              1               0  146121.95  \n",
      "11              0               0  144259.40  \n",
      "12              1               0  141585.52  \n",
      "13              0               0  134307.35  \n",
      "14              1               0  132602.65  \n",
      "15              0               1  129917.04  \n",
      "16              0               0  126992.93  \n",
      "17              0               1  125370.37  \n",
      "18              1               0  124266.90  \n",
      "19              0               1  122776.86  \n",
      "20              0               0  118474.03  \n",
      "21              0               1  111313.02  \n",
      "22              1               0  110352.25  \n",
      "23              1               0  108733.99  \n",
      "24              0               1  108552.04  \n",
      "25              0               0  107404.34  \n",
      "26              1               0  105733.54  \n",
      "27              0               1  105008.31  \n",
      "28              1               0  103282.38  \n",
      "29              0               1  101004.64  \n",
      "30              1               0   99937.59  \n",
      "31              0               1   97483.56  \n",
      "32              0               0   97427.84  \n",
      "33              1               0   96778.92  \n",
      "34              0               0   96712.80  \n",
      "35              0               1   96479.51  \n",
      "36              1               0   90708.19  \n",
      "37              0               0   89949.14  \n",
      "38              0               1   81229.06  \n",
      "39              0               0   81005.76  \n",
      "40              0               0   78239.91  \n",
      "41              1               0   77798.83  \n",
      "42              0               0   71498.49  \n",
      "43              0               1   69758.98  \n",
      "44              0               0   65200.33  \n",
      "45              0               1   64926.08  \n",
      "46              1               0   49490.75  \n",
      "47              0               0   42559.73  \n",
      "48              0               1   35673.41  \n",
      "49              0               0   14681.40  \n"
     ]
    }
   ],
   "source": [
    "print(df.columns)\n",
    "new_cols = ['R&D Spend', 'Administration', 'Marketing Spend','State_California', 'State_Florida', 'State_New York','Profit']\n",
    "df=df[new_cols]\n",
    "# Or\n",
    "df=df.reindex(columns=new_cols)\n",
    "print(df)"
   ]
  },
  {
   "cell_type": "code",
   "execution_count": 28,
   "id": "59ea5aad",
   "metadata": {},
   "outputs": [],
   "source": [
    "x= df.iloc[:,:-1].values\n",
    "y= df.iloc[:,-1].values"
   ]
  },
  {
   "cell_type": "markdown",
   "id": "e44ba26d",
   "metadata": {},
   "source": [
    "## Train and text set "
   ]
  },
  {
   "cell_type": "code",
   "execution_count": 34,
   "id": "fe971590",
   "metadata": {},
   "outputs": [],
   "source": [
    "from sklearn.model_selection import train_test_split\n",
    "X_train , X_test ,y_train , y_test = train_test_split(x,y,test_size=0.2,random_state=0)"
   ]
  },
  {
   "cell_type": "markdown",
   "id": "6ef7b0e7",
   "metadata": {},
   "source": [
    "## Prediction"
   ]
  },
  {
   "cell_type": "code",
   "execution_count": 35,
   "id": "f88c687e",
   "metadata": {},
   "outputs": [
    {
     "data": {
      "text/html": [
       "<style>#sk-container-id-1 {color: black;}#sk-container-id-1 pre{padding: 0;}#sk-container-id-1 div.sk-toggleable {background-color: white;}#sk-container-id-1 label.sk-toggleable__label {cursor: pointer;display: block;width: 100%;margin-bottom: 0;padding: 0.3em;box-sizing: border-box;text-align: center;}#sk-container-id-1 label.sk-toggleable__label-arrow:before {content: \"▸\";float: left;margin-right: 0.25em;color: #696969;}#sk-container-id-1 label.sk-toggleable__label-arrow:hover:before {color: black;}#sk-container-id-1 div.sk-estimator:hover label.sk-toggleable__label-arrow:before {color: black;}#sk-container-id-1 div.sk-toggleable__content {max-height: 0;max-width: 0;overflow: hidden;text-align: left;background-color: #f0f8ff;}#sk-container-id-1 div.sk-toggleable__content pre {margin: 0.2em;color: black;border-radius: 0.25em;background-color: #f0f8ff;}#sk-container-id-1 input.sk-toggleable__control:checked~div.sk-toggleable__content {max-height: 200px;max-width: 100%;overflow: auto;}#sk-container-id-1 input.sk-toggleable__control:checked~label.sk-toggleable__label-arrow:before {content: \"▾\";}#sk-container-id-1 div.sk-estimator input.sk-toggleable__control:checked~label.sk-toggleable__label {background-color: #d4ebff;}#sk-container-id-1 div.sk-label input.sk-toggleable__control:checked~label.sk-toggleable__label {background-color: #d4ebff;}#sk-container-id-1 input.sk-hidden--visually {border: 0;clip: rect(1px 1px 1px 1px);clip: rect(1px, 1px, 1px, 1px);height: 1px;margin: -1px;overflow: hidden;padding: 0;position: absolute;width: 1px;}#sk-container-id-1 div.sk-estimator {font-family: monospace;background-color: #f0f8ff;border: 1px dotted black;border-radius: 0.25em;box-sizing: border-box;margin-bottom: 0.5em;}#sk-container-id-1 div.sk-estimator:hover {background-color: #d4ebff;}#sk-container-id-1 div.sk-parallel-item::after {content: \"\";width: 100%;border-bottom: 1px solid gray;flex-grow: 1;}#sk-container-id-1 div.sk-label:hover label.sk-toggleable__label {background-color: #d4ebff;}#sk-container-id-1 div.sk-serial::before {content: \"\";position: absolute;border-left: 1px solid gray;box-sizing: border-box;top: 0;bottom: 0;left: 50%;z-index: 0;}#sk-container-id-1 div.sk-serial {display: flex;flex-direction: column;align-items: center;background-color: white;padding-right: 0.2em;padding-left: 0.2em;position: relative;}#sk-container-id-1 div.sk-item {position: relative;z-index: 1;}#sk-container-id-1 div.sk-parallel {display: flex;align-items: stretch;justify-content: center;background-color: white;position: relative;}#sk-container-id-1 div.sk-item::before, #sk-container-id-1 div.sk-parallel-item::before {content: \"\";position: absolute;border-left: 1px solid gray;box-sizing: border-box;top: 0;bottom: 0;left: 50%;z-index: -1;}#sk-container-id-1 div.sk-parallel-item {display: flex;flex-direction: column;z-index: 1;position: relative;background-color: white;}#sk-container-id-1 div.sk-parallel-item:first-child::after {align-self: flex-end;width: 50%;}#sk-container-id-1 div.sk-parallel-item:last-child::after {align-self: flex-start;width: 50%;}#sk-container-id-1 div.sk-parallel-item:only-child::after {width: 0;}#sk-container-id-1 div.sk-dashed-wrapped {border: 1px dashed gray;margin: 0 0.4em 0.5em 0.4em;box-sizing: border-box;padding-bottom: 0.4em;background-color: white;}#sk-container-id-1 div.sk-label label {font-family: monospace;font-weight: bold;display: inline-block;line-height: 1.2em;}#sk-container-id-1 div.sk-label-container {text-align: center;}#sk-container-id-1 div.sk-container {/* jupyter's `normalize.less` sets `[hidden] { display: none; }` but bootstrap.min.css set `[hidden] { display: none !important; }` so we also need the `!important` here to be able to override the default hidden behavior on the sphinx rendered scikit-learn.org. See: https://github.com/scikit-learn/scikit-learn/issues/21755 */display: inline-block !important;position: relative;}#sk-container-id-1 div.sk-text-repr-fallback {display: none;}</style><div id=\"sk-container-id-1\" class=\"sk-top-container\"><div class=\"sk-text-repr-fallback\"><pre>LinearRegression()</pre><b>In a Jupyter environment, please rerun this cell to show the HTML representation or trust the notebook. <br />On GitHub, the HTML representation is unable to render, please try loading this page with nbviewer.org.</b></div><div class=\"sk-container\" hidden><div class=\"sk-item\"><div class=\"sk-estimator sk-toggleable\"><input class=\"sk-toggleable__control sk-hidden--visually\" id=\"sk-estimator-id-1\" type=\"checkbox\" checked><label for=\"sk-estimator-id-1\" class=\"sk-toggleable__label sk-toggleable__label-arrow\">LinearRegression</label><div class=\"sk-toggleable__content\"><pre>LinearRegression()</pre></div></div></div></div></div>"
      ],
      "text/plain": [
       "LinearRegression()"
      ]
     },
     "execution_count": 35,
     "metadata": {},
     "output_type": "execute_result"
    }
   ],
   "source": [
    "from sklearn.linear_model import LinearRegression\n",
    "regressor = LinearRegression()\n",
    "regressor.fit(X_train, y_train)"
   ]
  },
  {
   "cell_type": "code",
   "execution_count": 36,
   "id": "9b5edf8a",
   "metadata": {},
   "outputs": [
    {
     "name": "stdout",
     "output_type": "stream",
     "text": [
      "[[103015.2  103282.38]\n",
      " [132582.28 144259.4 ]\n",
      " [132447.74 146121.95]\n",
      " [ 71976.1   77798.83]\n",
      " [178537.48 191050.39]\n",
      " [116161.24 105008.31]\n",
      " [ 67851.69  81229.06]\n",
      " [ 98791.73  97483.56]\n",
      " [113969.44 110352.25]\n",
      " [167921.07 166187.94]]\n"
     ]
    }
   ],
   "source": [
    "y_pred = regressor.predict(X_test)\n",
    "np.set_printoptions(precision=2)\n",
    "print(np.concatenate((y_pred.reshape(len(y_pred),1), y_test.reshape(len(y_test),1)),1))"
   ]
  },
  {
   "cell_type": "code",
   "execution_count": 39,
   "id": "c783ea8e",
   "metadata": {},
   "outputs": [
    {
     "ename": "AttributeError",
     "evalue": "'LinearRegression' object has no attribute 'percent'",
     "output_type": "error",
     "traceback": [
      "\u001b[1;31m---------------------------------------------------------------------------\u001b[0m",
      "\u001b[1;31mAttributeError\u001b[0m                            Traceback (most recent call last)",
      "Cell \u001b[1;32mIn[39], line 1\u001b[0m\n\u001b[1;32m----> 1\u001b[0m \u001b[43mregressor\u001b[49m\u001b[38;5;241;43m.\u001b[39;49m\u001b[43mpercent\u001b[49m()\n",
      "\u001b[1;31mAttributeError\u001b[0m: 'LinearRegression' object has no attribute 'percent'"
     ]
    }
   ],
   "source": [
    "regressor.percent()"
   ]
  },
  {
   "cell_type": "code",
   "execution_count": null,
   "id": "e8aeabc1",
   "metadata": {},
   "outputs": [],
   "source": []
  }
 ],
 "metadata": {
  "kernelspec": {
   "display_name": "Python 3 (ipykernel)",
   "language": "python",
   "name": "python3"
  },
  "language_info": {
   "codemirror_mode": {
    "name": "ipython",
    "version": 3
   },
   "file_extension": ".py",
   "mimetype": "text/x-python",
   "name": "python",
   "nbconvert_exporter": "python",
   "pygments_lexer": "ipython3",
   "version": "3.10.6"
  }
 },
 "nbformat": 4,
 "nbformat_minor": 5
}
